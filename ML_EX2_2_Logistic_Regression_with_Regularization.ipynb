{
  "nbformat": 4,
  "nbformat_minor": 0,
  "metadata": {
    "colab": {
      "name": "ML-EX2_2-Logistic Regression with Regularization.ipynb",
      "provenance": [],
      "include_colab_link": true
    },
    "kernelspec": {
      "name": "python3",
      "display_name": "Python 3"
    }
  },
  "cells": [
    {
      "cell_type": "markdown",
      "metadata": {
        "id": "view-in-github",
        "colab_type": "text"
      },
      "source": [
        "<a href=\"https://colab.research.google.com/github/lalitgarg12/Machine-Learning/blob/master/ML_EX2_2_Logistic_Regression_with_Regularization.ipynb\" target=\"_parent\"><img src=\"https://colab.research.google.com/assets/colab-badge.svg\" alt=\"Open In Colab\"/></a>"
      ]
    },
    {
      "cell_type": "markdown",
      "metadata": {
        "id": "89EfzbkziB8c",
        "colab_type": "text"
      },
      "source": [
        "Importing the Modules"
      ]
    },
    {
      "cell_type": "code",
      "metadata": {
        "id": "uk5SIIofbffA",
        "colab_type": "code",
        "colab": {}
      },
      "source": [
        "import numpy as np\n",
        "import matplotlib.pyplot as plt\n",
        "import pandas as pd\n",
        "from scipy.optimize import minimize"
      ],
      "execution_count": 0,
      "outputs": []
    },
    {
      "cell_type": "markdown",
      "metadata": {
        "id": "HGVShvdjiHjK",
        "colab_type": "text"
      },
      "source": [
        "Importing the Dataset"
      ]
    },
    {
      "cell_type": "code",
      "metadata": {
        "id": "_-KhbmuGbj9s",
        "colab_type": "code",
        "colab": {
          "base_uri": "https://localhost:8080/",
          "height": 195
        },
        "outputId": "5dae99d3-908c-4a31-a51b-e434e3f27426"
      },
      "source": [
        "data = pd.read_csv('https://raw.githubusercontent.com/lalitgarg12/Machine-Learning/master/ex2/ex2data2.txt', names=['x1','x2','y'])\n",
        "data.head()"
      ],
      "execution_count": 2,
      "outputs": [
        {
          "output_type": "execute_result",
          "data": {
            "text/html": [
              "<div>\n",
              "<style scoped>\n",
              "    .dataframe tbody tr th:only-of-type {\n",
              "        vertical-align: middle;\n",
              "    }\n",
              "\n",
              "    .dataframe tbody tr th {\n",
              "        vertical-align: top;\n",
              "    }\n",
              "\n",
              "    .dataframe thead th {\n",
              "        text-align: right;\n",
              "    }\n",
              "</style>\n",
              "<table border=\"1\" class=\"dataframe\">\n",
              "  <thead>\n",
              "    <tr style=\"text-align: right;\">\n",
              "      <th></th>\n",
              "      <th>x1</th>\n",
              "      <th>x2</th>\n",
              "      <th>y</th>\n",
              "    </tr>\n",
              "  </thead>\n",
              "  <tbody>\n",
              "    <tr>\n",
              "      <th>0</th>\n",
              "      <td>0.051267</td>\n",
              "      <td>0.69956</td>\n",
              "      <td>1</td>\n",
              "    </tr>\n",
              "    <tr>\n",
              "      <th>1</th>\n",
              "      <td>-0.092742</td>\n",
              "      <td>0.68494</td>\n",
              "      <td>1</td>\n",
              "    </tr>\n",
              "    <tr>\n",
              "      <th>2</th>\n",
              "      <td>-0.213710</td>\n",
              "      <td>0.69225</td>\n",
              "      <td>1</td>\n",
              "    </tr>\n",
              "    <tr>\n",
              "      <th>3</th>\n",
              "      <td>-0.375000</td>\n",
              "      <td>0.50219</td>\n",
              "      <td>1</td>\n",
              "    </tr>\n",
              "    <tr>\n",
              "      <th>4</th>\n",
              "      <td>-0.513250</td>\n",
              "      <td>0.46564</td>\n",
              "      <td>1</td>\n",
              "    </tr>\n",
              "  </tbody>\n",
              "</table>\n",
              "</div>"
            ],
            "text/plain": [
              "         x1       x2  y\n",
              "0  0.051267  0.69956  1\n",
              "1 -0.092742  0.68494  1\n",
              "2 -0.213710  0.69225  1\n",
              "3 -0.375000  0.50219  1\n",
              "4 -0.513250  0.46564  1"
            ]
          },
          "metadata": {
            "tags": []
          },
          "execution_count": 2
        }
      ]
    },
    {
      "cell_type": "markdown",
      "metadata": {
        "id": "92aFH89PiOn2",
        "colab_type": "text"
      },
      "source": [
        "Printing first 5 values of X and y"
      ]
    },
    {
      "cell_type": "code",
      "metadata": {
        "id": "B2eoHE86b9B0",
        "colab_type": "code",
        "colab": {
          "base_uri": "https://localhost:8080/",
          "height": 151
        },
        "outputId": "35455d60-93df-4ef5-f396-a8bb83d47f8b"
      },
      "source": [
        "X = np.asarray(data[[\"x1\",\"x2\"]])\n",
        "y = np.asarray(data[\"y\"])\n",
        "print(X[:5])\n",
        "print(y[:5])\n",
        "print(X.shape)\n",
        "print(y.shape)"
      ],
      "execution_count": 3,
      "outputs": [
        {
          "output_type": "stream",
          "text": [
            "[[ 0.051267  0.69956 ]\n",
            " [-0.092742  0.68494 ]\n",
            " [-0.21371   0.69225 ]\n",
            " [-0.375     0.50219 ]\n",
            " [-0.51325   0.46564 ]]\n",
            "[1 1 1 1 1]\n",
            "(118, 2)\n",
            "(118,)\n"
          ],
          "name": "stdout"
        }
      ]
    },
    {
      "cell_type": "markdown",
      "metadata": {
        "id": "nOvJbEMciT0I",
        "colab_type": "text"
      },
      "source": [
        "Plotting X and y data in 2D plot"
      ]
    },
    {
      "cell_type": "code",
      "metadata": {
        "id": "fce5mJV0cGA9",
        "colab_type": "code",
        "colab": {}
      },
      "source": [
        "def plotData(X, y):\n",
        "    pos = X[np.where(y==1)]\n",
        "    neg = X[np.where(y==0)]\n",
        "    fig, ax = plt.subplots()\n",
        "    ax.plot(pos[:,0],pos[:,1],\"k+\",neg[:,0],neg[:,1],\"yo\")\n",
        "    return (fig, ax)"
      ],
      "execution_count": 0,
      "outputs": []
    },
    {
      "cell_type": "code",
      "metadata": {
        "id": "eC1qv17RcRDd",
        "colab_type": "code",
        "colab": {
          "base_uri": "https://localhost:8080/",
          "height": 296
        },
        "outputId": "31001bd3-b298-4106-8505-1866370af737"
      },
      "source": [
        "print(\"Plotting data with + indicating (y = 1) examples and o indicating\",\n",
        "\" (y =0) examples.\")\n",
        "fig, ax = plotData(X, y)\n",
        "ax.legend(['Pass', 'Fail'])\n",
        "# Labels\n",
        "ax.set_xlabel('Microchip test 1')\n",
        "ax.set_ylabel('Microchip test 2')\n",
        "fig.show()\n"
      ],
      "execution_count": 6,
      "outputs": [
        {
          "output_type": "stream",
          "text": [
            "Plotting data with + indicating (y = 1) examples and o indicating  (y =0) examples.\n"
          ],
          "name": "stdout"
        },
        {
          "output_type": "display_data",
          "data": {
            "image/png": "[encoded data removed]",
            "text/plain": [
              "<Figure size 432x288 with 1 Axes>"
            ]
          },
          "metadata": {
            "tags": []
          }
        }
      ]
    },
    {
      "cell_type": "markdown",
      "metadata": {
        "id": "qP7WJkzAia3G",
        "colab_type": "text"
      },
      "source": [
        "Defining and Plotting Sigmoid Function."
      ]
    },
    {
      "cell_type": "code",
      "metadata": {
        "id": "I0F8zfP-cUIh",
        "colab_type": "code",
        "colab": {}
      },
      "source": [
        "def sigmoid(z):\n",
        "    return 1.0/(1 +  np.e**(-z))"
      ],
      "execution_count": 0,
      "outputs": []
    },
    {
      "cell_type": "code",
      "metadata": {
        "id": "q8NLGYBHcbWf",
        "colab_type": "code",
        "colab": {
          "base_uri": "https://localhost:8080/",
          "height": 416
        },
        "outputId": "f13e31ac-6d95-4e0a-d6cc-bf9129c024e6"
      },
      "source": [
        "fig, ax = plt.subplots(figsize=(8, 6))\n",
        "ax.plot(np.arange(-10, 10, step=0.01),\n",
        "        sigmoid(np.arange(-10, 10, step=0.01)))\n",
        "ax.set_ylim((-0.1,1.1))\n",
        "ax.set_xlabel('z', fontsize=18)\n",
        "ax.set_ylabel('g(z)', fontsize=18)\n",
        "ax.set_title('sigmoid function', fontsize=18)\n",
        "plt.show()"
      ],
      "execution_count": 8,
      "outputs": [
        {
          "output_type": "display_data",
          "data": {
            "image/png": "[encoded data removed]",
            "text/plain": [
              "<Figure size 576x432 with 1 Axes>"
            ]
          },
          "metadata": {
            "tags": []
          }
        }
      ]
    },
    {
      "cell_type": "markdown",
      "metadata": {
        "id": "P_6-EH0xi0D3",
        "colab_type": "text"
      },
      "source": [
        "Defining Cost Function based on input features and assumption of initial theta values"
      ]
    },
    {
      "cell_type": "code",
      "metadata": {
        "id": "tscr1IzVcd2w",
        "colab_type": "code",
        "colab": {}
      },
      "source": [
        "def costFunctionReg(theta,X,y,reg_param):\n",
        "    m = len(y) \n",
        "    J =((np.sum(-y*np.log(sigmoid(np.dot(X,theta)))-\n",
        "       (1-y)*(np.log(1-sigmoid(np.dot(X,theta))))))/m +\n",
        "       (reg_param/m)*np.sum(theta**2))\n",
        "    # Non-regularized \n",
        "    grad_0 = (np.sum((sigmoid(np.dot(X,theta))-y)[:,None]*X,axis=0)/m)\n",
        "    # Regularized\n",
        "    grad_reg = grad_0 + (reg_param/m)*theta\n",
        "    # Replace gradient for theta_0 with non-regularized gradient\n",
        "    grad_reg[0] = grad_0[0] \n",
        "    return (J,grad_reg)\n"
      ],
      "execution_count": 0,
      "outputs": []
    },
    {
      "cell_type": "markdown",
      "metadata": {
        "id": "zO7T4PHki6Cn",
        "colab_type": "text"
      },
      "source": [
        "Defining feature vector function for mapping x1 and x2 polynomial features (higher order)"
      ]
    },
    {
      "cell_type": "code",
      "metadata": {
        "id": "U4V5XT0KciM5",
        "colab_type": "code",
        "colab": {}
      },
      "source": [
        "def mapFeatureVector(X1,X2):\n",
        "    \"\"\"\n",
        "    Feature mapping function to polynomial features. Maps the two features\n",
        "    X1,X2 to quadratic features used in the regularization exercise. X1, X2\n",
        "    must be the same size.returns new feature array with interactions and quadratic terms\n",
        "    \"\"\"\n",
        "    \n",
        "    degree = 6\n",
        "    output_feature_vec = np.ones(len(X1))[:,None]\n",
        "    for i in range(1,7):\n",
        "        for j in range(i+1):\n",
        "            new_feature = np.array(X1**(i-j)*X2**j)[:,None]\n",
        "            output_feature_vec = np.hstack((output_feature_vec,new_feature))\n",
        "    return output_feature_vec\n"
      ],
      "execution_count": 0,
      "outputs": []
    },
    {
      "cell_type": "markdown",
      "metadata": {
        "id": "G6sl8kaGjDFw",
        "colab_type": "text"
      },
      "source": [
        "Preprocessing X and Initial Theta values and defining regularization parameter lambda as reg_param"
      ]
    },
    {
      "cell_type": "code",
      "metadata": {
        "id": "1f_odGh2dpp9",
        "colab_type": "code",
        "colab": {}
      },
      "source": [
        "## Part 1 -- Regularized Logistic Regression\n",
        "X = mapFeatureVector(X[:,0],X[:,1])\n",
        "initial_theta = np.zeros(len(X[0,:]))\n",
        "# Set regularization parameter to 1\n",
        "reg_param = 1.0"
      ],
      "execution_count": 0,
      "outputs": []
    },
    {
      "cell_type": "code",
      "metadata": {
        "id": "gF_9x4fjdzG0",
        "colab_type": "code",
        "colab": {
          "base_uri": "https://localhost:8080/",
          "height": 605
        },
        "outputId": "57da7905-becf-459b-ad20-be2aaf7b594f"
      },
      "source": [
        "print(X[:5])"
      ],
      "execution_count": 12,
      "outputs": [
        {
          "output_type": "stream",
          "text": [
            "[[ 1.00000000e+00  5.12670000e-02  6.99560000e-01  2.62830529e-03\n",
            "   3.58643425e-02  4.89384194e-01  1.34745327e-04  1.83865725e-03\n",
            "   2.50892595e-02  3.42353606e-01  6.90798869e-06  9.42624411e-05\n",
            "   1.28625106e-03  1.75514423e-02  2.39496889e-01  3.54151856e-07\n",
            "   4.83255257e-06  6.59422333e-05  8.99809795e-04  1.22782870e-02\n",
            "   1.67542444e-01  1.81563032e-08  2.47750473e-07  3.38066048e-06\n",
            "   4.61305487e-05  6.29470940e-04  8.58939846e-03  1.17205992e-01]\n",
            " [ 1.00000000e+00 -9.27420000e-02  6.84940000e-01  8.60107856e-03\n",
            "  -6.35227055e-02  4.69142804e-01 -7.97681228e-04  5.89122275e-03\n",
            "  -4.35092419e-02  3.21334672e-01  7.39785525e-05 -5.46363780e-04\n",
            "   4.03513411e-03 -2.98012201e-02  2.20094970e-01 -6.86091891e-06\n",
            "   5.06708697e-05 -3.74226408e-04  2.76382476e-03 -2.04120477e-02\n",
            "   1.50751849e-01  6.36295342e-07 -4.69931780e-06  3.47065055e-05\n",
            "  -2.56322636e-04  1.89305413e-03 -1.39810280e-02  1.03255971e-01]\n",
            " [ 1.00000000e+00 -2.13710000e-01  6.92250000e-01  4.56719641e-02\n",
            "  -1.47940747e-01  4.79210063e-01 -9.76055545e-03  3.16164171e-02\n",
            "  -1.02411982e-01  3.31733166e-01  2.08592830e-03 -6.75674451e-03\n",
            "   2.18864648e-02 -7.08946949e-02  2.29642284e-01 -4.45783738e-04\n",
            "   1.44398387e-03 -4.67735639e-03  1.51509052e-02 -4.90768525e-02\n",
            "   1.58969871e-01  9.52684426e-05 -3.08593793e-04  9.99597833e-04\n",
            "  -3.23789996e-03  1.04882142e-02 -3.39734512e-02  1.10046893e-01]\n",
            " [ 1.00000000e+00 -3.75000000e-01  5.02190000e-01  1.40625000e-01\n",
            "  -1.88321250e-01  2.52194796e-01 -5.27343750e-02  7.06204687e-02\n",
            "  -9.45730485e-02  1.26649705e-01  1.97753906e-02 -2.64826758e-02\n",
            "   3.54648932e-02 -4.74936392e-02  6.36022152e-02 -7.41577148e-03\n",
            "   9.93100342e-03 -1.32993350e-02  1.78101147e-02 -2.38508307e-02\n",
            "   3.19403964e-02  2.78091431e-03 -3.72412628e-03  4.98725061e-03\n",
            "  -6.67879302e-03  8.94406151e-03 -1.19776487e-02  1.60401477e-02]\n",
            " [ 1.00000000e+00 -5.13250000e-01  4.65640000e-01  2.63425562e-01\n",
            "  -2.38989730e-01  2.16820610e-01 -1.35203170e-01  1.22661479e-01\n",
            "  -1.11283178e-01  1.00960349e-01  6.93930270e-02 -6.29560041e-02\n",
            "   5.71160910e-02 -5.18178989e-02  4.70111767e-02 -3.56159711e-02\n",
            "   3.23121691e-02 -2.93148337e-02  2.65955366e-02 -2.41284865e-02\n",
            "   2.18902843e-02  1.82798972e-02 -1.65842208e-02  1.50458384e-02\n",
            "  -1.36501592e-02  1.23839457e-02 -1.12351884e-02  1.01929920e-02]]\n"
          ],
          "name": "stdout"
        }
      ]
    },
    {
      "cell_type": "markdown",
      "metadata": {
        "id": "tfc01Ao0jLxC",
        "colab_type": "text"
      },
      "source": [
        "Printing and testing of X and y shapes and theta shapes"
      ]
    },
    {
      "cell_type": "code",
      "metadata": {
        "id": "foT5SZTxd3ys",
        "colab_type": "code",
        "colab": {
          "base_uri": "https://localhost:8080/",
          "height": 84
        },
        "outputId": "d4e58ff0-3b2a-4062-8a4e-de373b42c339"
      },
      "source": [
        "print(X.shape), print(y.shape), print(initial_theta.shape)"
      ],
      "execution_count": 14,
      "outputs": [
        {
          "output_type": "stream",
          "text": [
            "(118, 28)\n",
            "(118,)\n",
            "(28,)\n"
          ],
          "name": "stdout"
        },
        {
          "output_type": "execute_result",
          "data": {
            "text/plain": [
              "(None, None, None)"
            ]
          },
          "metadata": {
            "tags": []
          },
          "execution_count": 14
        }
      ]
    },
    {
      "cell_type": "markdown",
      "metadata": {
        "id": "mMmhMQRwjRXv",
        "colab_type": "text"
      },
      "source": [
        "Calculating Cost and Regularized gradient descent based on parameters."
      ]
    },
    {
      "cell_type": "code",
      "metadata": {
        "id": "1zDn_8ZXd8U6",
        "colab_type": "code",
        "colab": {}
      },
      "source": [
        "cost, grad_reg = costFunctionReg(initial_theta, X, y,reg_param)"
      ],
      "execution_count": 0,
      "outputs": []
    },
    {
      "cell_type": "code",
      "metadata": {
        "id": "e2JyKR3jeLEG",
        "colab_type": "code",
        "colab": {
          "base_uri": "https://localhost:8080/",
          "height": 185
        },
        "outputId": "3731cd0d-4924-405e-8942-a136973a33a2"
      },
      "source": [
        "print('Cost at initial theta (zeros): \\n', cost)\n",
        "print('Gradient at initial theta (zeros): \\n',grad_reg)\n"
      ],
      "execution_count": 16,
      "outputs": [
        {
          "output_type": "stream",
          "text": [
            "Cost at initial theta (zeros): \n",
            " 0.6931471805599454\n",
            "Gradient at initial theta (zeros): \n",
            " [8.47457627e-03 1.87880932e-02 7.77711864e-05 5.03446395e-02\n",
            " 1.15013308e-02 3.76648474e-02 1.83559872e-02 7.32393391e-03\n",
            " 8.19244468e-03 2.34764889e-02 3.93486234e-02 2.23923907e-03\n",
            " 1.28600503e-02 3.09593720e-03 3.93028171e-02 1.99707467e-02\n",
            " 4.32983232e-03 3.38643902e-03 5.83822078e-03 4.47629067e-03\n",
            " 3.10079849e-02 3.10312442e-02 1.09740238e-03 6.31570797e-03\n",
            " 4.08503006e-04 7.26504316e-03 1.37646175e-03 3.87936363e-02]\n"
          ],
          "name": "stdout"
        }
      ]
    },
    {
      "cell_type": "markdown",
      "metadata": {
        "id": "Ar9ItP-EjYlo",
        "colab_type": "text"
      },
      "source": [
        "Optimizing cost function as per scipy minimize function."
      ]
    },
    {
      "cell_type": "code",
      "metadata": {
        "id": "2jN_NtpyeN7p",
        "colab_type": "code",
        "colab": {
          "base_uri": "https://localhost:8080/",
          "height": 118
        },
        "outputId": "16d2a9bb-79f9-4e8c-c805-5c4134d8318c"
      },
      "source": [
        "# Optimize for theta letting python choose method\n",
        "res = minimize(costFunctionReg,\n",
        "\t       initial_theta,\n",
        "               method='Newton-CG',\n",
        "\t       args=(X,y,reg_param),\n",
        "\t       jac=True, \n",
        "\t       tol=1e-6,\n",
        "\t       options={'maxiter':400,\n",
        "\t\t\t'disp':True})\n"
      ],
      "execution_count": 17,
      "outputs": [
        {
          "output_type": "stream",
          "text": [
            "Warning: Desired error not necessarily achieved due to precision loss.\n",
            "         Current function value: 0.586443\n",
            "         Iterations: 4\n",
            "         Function evaluations: 32\n",
            "         Gradient evaluations: 52\n",
            "         Hessian evaluations: 0\n"
          ],
          "name": "stdout"
        }
      ]
    },
    {
      "cell_type": "markdown",
      "metadata": {
        "id": "-iwGCdxTjdiu",
        "colab_type": "text"
      },
      "source": [
        "Updating theta values based on optimized cost."
      ]
    },
    {
      "cell_type": "code",
      "metadata": {
        "id": "gVn01vB0eRWM",
        "colab_type": "code",
        "colab": {}
      },
      "source": [
        "theta = res.x"
      ],
      "execution_count": 0,
      "outputs": []
    },
    {
      "cell_type": "markdown",
      "metadata": {
        "id": "qhObIm0PjjIP",
        "colab_type": "text"
      },
      "source": [
        "Printing theta values for higher order polynomial features of x1 and x2."
      ]
    },
    {
      "cell_type": "code",
      "metadata": {
        "id": "34o0BYoZeUKM",
        "colab_type": "code",
        "colab": {
          "base_uri": "https://localhost:8080/",
          "height": 101
        },
        "outputId": "3d2e1e0e-256e-4735-a41d-4a52e0a70b2f"
      },
      "source": [
        "print(theta)"
      ],
      "execution_count": 19,
      "outputs": [
        {
          "output_type": "stream",
          "text": [
            "[ 1.01722923  0.16968737  0.79580858 -1.4336498  -0.53566806 -0.83116482\n",
            " -0.10604328 -0.22414935 -0.25291136 -0.22237155 -1.11536445 -0.06393938\n",
            " -0.40707549 -0.15558659 -0.89566513 -0.31529924 -0.14323098 -0.06765798\n",
            " -0.17860176 -0.18203622 -0.51586873 -0.83990234 -0.01102172 -0.20391598\n",
            " -0.00590762 -0.22299708 -0.07756428 -0.83618482]\n"
          ],
          "name": "stdout"
        }
      ]
    },
    {
      "cell_type": "markdown",
      "metadata": {
        "id": "-MReG3MWjo62",
        "colab_type": "text"
      },
      "source": [
        "Plotting Decision Boundary based on updated values of theta."
      ]
    },
    {
      "cell_type": "code",
      "metadata": {
        "id": "HpiZr_byfdsO",
        "colab_type": "code",
        "colab": {}
      },
      "source": [
        "def plotDecisionBoundary(theta,X,y):\n",
        "    \"\"\"X is asssumed to be either:\n",
        "        1) Mx3 matrix where the first column is all ones for the intercept\n",
        "        2) MxN with N>3, where the first column is all ones\n",
        "    \"\"\"\n",
        "    fig, ax = plotData(X[:,1:],y)\n",
        "# Create grid space\n",
        "    u = np.linspace(-1,1.5,50)\n",
        "    v = np.linspace(-1,1.5,50)\n",
        "    z = np.zeros((len(u),len(v)))\n",
        "# Evaluate z = theta*x over values in the gridspace\n",
        "    for i in range(len(u)):\n",
        "        for j in range(len(v)):\n",
        "            z[i][j] = np.dot(mapFeatureVector(np.array([u[i]]),np.array([v[j]])),theta) \n",
        "# Plot contour\n",
        "    z = z.T\n",
        "    ax.contour(u,v,z,levels=[0])\n",
        "    return (fig,ax)\n"
      ],
      "execution_count": 0,
      "outputs": []
    },
    {
      "cell_type": "code",
      "metadata": {
        "id": "TtjiSV8Ngkz6",
        "colab_type": "code",
        "colab": {
          "base_uri": "https://localhost:8080/",
          "height": 295
        },
        "outputId": "2165f737-9f2e-48df-fd5c-db5f34d7507a"
      },
      "source": [
        "fig, ax = plotDecisionBoundary(theta,X,y)\n",
        "ax.legend(['Pass', 'Fail','Decision Boundary'])\n",
        "# Labels\n",
        "ax.set_xlabel('Microchip test 1')\n",
        "ax.set_ylabel('Microchip test 2')\n",
        "ax.set_title('Lambda = 1')\n",
        "plt.show()"
      ],
      "execution_count": 21,
      "outputs": [
        {
          "output_type": "display_data",
          "data": {
            "image/png": "[encoded data removed]",
            "text/plain": [
              "<Figure size 432x288 with 1 Axes>"
            ]
          },
          "metadata": {
            "tags": []
          }
        }
      ]
    },
    {
      "cell_type": "markdown",
      "metadata": {
        "id": "VnwufdEejuum",
        "colab_type": "text"
      },
      "source": [
        "Here we can observe the decision boundary based on regularization parameter as value of 1.\n",
        "\n",
        "Later we will understand how regularization value can impact the decision boundary and can cause overfitting and underfitting also."
      ]
    },
    {
      "cell_type": "markdown",
      "metadata": {
        "id": "5Vq_nSwJj-y3",
        "colab_type": "text"
      },
      "source": [
        "Lets redefine regularization parameter as zero and see if my decision boundary does any overfitting or not."
      ]
    },
    {
      "cell_type": "code",
      "metadata": {
        "id": "g2W2Yct-gqkq",
        "colab_type": "code",
        "colab": {}
      },
      "source": [
        "reg_param = 0.0\n",
        "cost, grad_reg = costFunctionReg(initial_theta, X, y,reg_param)"
      ],
      "execution_count": 0,
      "outputs": []
    },
    {
      "cell_type": "code",
      "metadata": {
        "id": "nBC7aIOIhdA6",
        "colab_type": "code",
        "colab": {
          "base_uri": "https://localhost:8080/",
          "height": 118
        },
        "outputId": "89894728-198c-4311-ecb2-3d4cbb18cafb"
      },
      "source": [
        "res = minimize(costFunctionReg,\n",
        "\t       initial_theta,\n",
        "               method='Newton-CG',\n",
        "\t       args=(X,y,reg_param),\n",
        "\t       jac=True, \n",
        "\t       tol=1e-6,\n",
        "\t       options={'maxiter':400,\n",
        "\t\t\t'disp':True})\n"
      ],
      "execution_count": 23,
      "outputs": [
        {
          "output_type": "stream",
          "text": [
            "Warning: CG iterations didn't converge.  The Hessian is not positive definite.\n",
            "         Current function value: 0.267781\n",
            "         Iterations: 12\n",
            "         Function evaluations: 13\n",
            "         Gradient evaluations: 2059\n",
            "         Hessian evaluations: 0\n"
          ],
          "name": "stdout"
        }
      ]
    },
    {
      "cell_type": "markdown",
      "metadata": {
        "id": "7C_jwmONkIz8",
        "colab_type": "text"
      },
      "source": [
        "Here, we can see that my decision boundary is performing overfitting of the model.\n",
        "\n",
        "Overfitting works well with current data but perform poorly on the new test data.\n",
        "\n",
        "Regularization parameter is used to control overfitting of the model trained based on train data."
      ]
    },
    {
      "cell_type": "code",
      "metadata": {
        "id": "Cp3w1cOxheYA",
        "colab_type": "code",
        "colab": {
          "base_uri": "https://localhost:8080/",
          "height": 295
        },
        "outputId": "a6570d81-3ee8-448d-ee47-37d40ebb1bb5"
      },
      "source": [
        "theta = res.x\n",
        "fig, ax = plotDecisionBoundary(theta,X,y)\n",
        "ax.legend(['Pass', 'Fail','Decision Boundary'])\n",
        "# Labels\n",
        "ax.set_xlabel('Microchip test 1')\n",
        "ax.set_ylabel('Microchip test 2')\n",
        "ax.set_title('Lambda = 1')\n",
        "plt.show()"
      ],
      "execution_count": 24,
      "outputs": [
        {
          "output_type": "display_data",
          "data": {
            "image/png": "[encoded data removed]",
            "text/plain": [
              "<Figure size 432x288 with 1 Axes>"
            ]
          },
          "metadata": {
            "tags": []
          }
        }
      ]
    },
    {
      "cell_type": "markdown",
      "metadata": {
        "id": "Bxn0fhR9keU2",
        "colab_type": "text"
      },
      "source": [
        "Lets check the regularization now with new value of 10. (Higher value than 1)"
      ]
    },
    {
      "cell_type": "code",
      "metadata": {
        "id": "BxIW_i9whkq7",
        "colab_type": "code",
        "colab": {}
      },
      "source": [
        "reg_param = 10.0\n",
        "cost, grad_reg = costFunctionReg(initial_theta, X, y,reg_param)"
      ],
      "execution_count": 0,
      "outputs": []
    },
    {
      "cell_type": "code",
      "metadata": {
        "id": "Y5omBW-3hvRK",
        "colab_type": "code",
        "colab": {
          "base_uri": "https://localhost:8080/",
          "height": 118
        },
        "outputId": "1a31b6c2-4886-443b-9bce-2ca540624159"
      },
      "source": [
        "res = minimize(costFunctionReg,\n",
        "\t       initial_theta,\n",
        "               method='Newton-CG',\n",
        "\t       args=(X,y,reg_param),\n",
        "\t       jac=True, \n",
        "\t       tol=1e-6,\n",
        "\t       options={'maxiter':400,\n",
        "\t\t\t'disp':True})\n"
      ],
      "execution_count": 29,
      "outputs": [
        {
          "output_type": "stream",
          "text": [
            "Warning: Desired error not necessarily achieved due to precision loss.\n",
            "         Current function value: 0.672251\n",
            "         Iterations: 3\n",
            "         Function evaluations: 27\n",
            "         Gradient evaluations: 32\n",
            "         Hessian evaluations: 0\n"
          ],
          "name": "stdout"
        }
      ]
    },
    {
      "cell_type": "markdown",
      "metadata": {
        "id": "vlJZ4MTVkvjB",
        "colab_type": "text"
      },
      "source": [
        "Here we can see the model is performing underfitting because of higher penalizing of the high order polynomial features and providing less accuracy.\n",
        "\n",
        "So the selection of regularization parameter is very important to perform model the better one in predicting the future data."
      ]
    },
    {
      "cell_type": "code",
      "metadata": {
        "id": "VO9F8u0XhxOW",
        "colab_type": "code",
        "colab": {
          "base_uri": "https://localhost:8080/",
          "height": 295
        },
        "outputId": "045ae1d2-3fdc-42ed-9ed7-c478f5b58693"
      },
      "source": [
        "theta = res.x\n",
        "\n",
        "fig, ax = plotDecisionBoundary(theta,X,y)\n",
        "ax.legend(['Pass', 'Fail','Decision Boundary'])\n",
        "# Labels\n",
        "ax.set_xlabel('Microchip test 1')\n",
        "ax.set_ylabel('Microchip test 2')\n",
        "ax.set_title('Lambda = 1')\n",
        "\n",
        "plt.show()\n"
      ],
      "execution_count": 30,
      "outputs": [
        {
          "output_type": "display_data",
          "data": {
            "image/png": "[encoded data removed]",
            "text/plain": [
              "<Figure size 432x288 with 1 Axes>"
            ]
          },
          "metadata": {
            "tags": []
          }
        }
      ]
    },
    {
      "cell_type": "code",
      "metadata": {
        "id": "tPjNit_Phz7e",
        "colab_type": "code",
        "colab": {}
      },
      "source": [
        ""
      ],
      "execution_count": 0,
      "outputs": []
    }
  ]
}